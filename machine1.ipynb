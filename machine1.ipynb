{
  "nbformat": 4,
  "nbformat_minor": 0,
  "metadata": {
    "colab": {
      "name": "Untitled8.ipynb",
      "version": "0.3.2",
      "provenance": [],
      "include_colab_link": true
    },
    "kernelspec": {
      "name": "python2",
      "display_name": "Python 2"
    }
  },
  "cells": [
    {
      "cell_type": "markdown",
      "metadata": {
        "id": "view-in-github",
        "colab_type": "text"
      },
      "source": [
        "<a href=\"https://colab.research.google.com/github/ritzx/dictionarymappings/blob/master/machine1.ipynb\" target=\"_parent\"><img src=\"https://colab.research.google.com/assets/colab-badge.svg\" alt=\"Open In Colab\"/></a>"
      ]
    },
    {
      "metadata": {
        "id": "oGbsz5eByLXK",
        "colab_type": "code",
        "colab": {
          "base_uri": "https://localhost:8080/",
          "height": 52
        },
        "outputId": "2a402c5d-9d2a-4847-f45b-a6dede921dd6"
      },
      "cell_type": "code",
      "source": [
        "\n",
        "import sklearn\n",
        "from sklearn import tree\n",
        "features=[[140,1],[130,1],[150,2],[170,2]]\n",
        "labels=[0,0,1,1]\n",
        "clf=tree.DecisionTreeClassifier()\n",
        "clf = clf.fit(features,labels)\n",
        "print clf.predict([[150,0]])\n",
        "print clf.predict([[170,2]])\n",
        "\n",
        "\n",
        "\n"
      ],
      "execution_count": 5,
      "outputs": [
        {
          "output_type": "stream",
          "text": [
            "[0]\n",
            "[1]\n"
          ],
          "name": "stdout"
        }
      ]
    }
  ]
}