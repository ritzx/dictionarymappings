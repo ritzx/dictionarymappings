{
  "nbformat": 4,
  "nbformat_minor": 0,
  "metadata": {
    "colab": {
      "name": "Untitled10.ipynb",
      "version": "0.3.2",
      "provenance": [],
      "include_colab_link": true
    },
    "kernelspec": {
      "name": "python3",
      "display_name": "Python 3"
    }
  },
  "cells": [
    {
      "cell_type": "markdown",
      "metadata": {
        "id": "view-in-github",
        "colab_type": "text"
      },
      "source": [
        "<a href=\"https://colab.research.google.com/github/ritzx/dictionarymappings/blob/master/ml2.ipynb\" target=\"_parent\"><img src=\"https://colab.research.google.com/assets/colab-badge.svg\" alt=\"Open In Colab\"/></a>"
      ]
    },
    {
      "metadata": {
        "colab_type": "code",
        "outputId": "999fed32-8dad-4238-887c-8a95780e2282",
        "id": "Kcf-pELkGxiA",
        "colab": {
          "base_uri": "https://localhost:8080/",
          "height": 243
        }
      },
      "cell_type": "code",
      "source": [
        "import sklearn\n",
        "from sklearn import datasets\n",
        "from sklearn.datasets import load_iris\n",
        "from sklearn import tree\n",
        "\n",
        "import numpy as np\n",
        "iris = load_iris()\n",
        "print (iris.feature_names)\n",
        "print (iris.target_names)\n",
        "digits = datasets.load_digits()\n",
        "print(digits.data) \n",
        "  \n",
        "print (iris.data[0])\n",
        "print (iris.target[0])\n",
        "test_idx = [0,50,100]\n",
        "\n",
        "#training data\n",
        "train_target = np.delete(iris.target,test_idx)\n",
        "train_data=np.delete(iris.data,test_idx,axis=0)\n",
        "\n",
        "#testing data\n",
        "test_target=iris.target[test_idx]\n",
        "test_data=iris.data[test_idx]\n",
        "\n",
        "clf=tree.DecisionTreeClassifier()\n",
        "clf.fit(train_data, train_target)\n",
        "\n",
        "print (test_target)\n",
        "print (clf.predict(test_data))\n",
        "\n",
        "#vizcode\n",
        "\n",
        "\n",
        "\n",
        "                   \n",
        "\n",
        "\n",
        "\n",
        "\n",
        "\n",
        "\n",
        "\n",
        "\n"
      ],
      "execution_count": 49,
      "outputs": [
        {
          "output_type": "stream",
          "text": [
            "['sepal length (cm)', 'sepal width (cm)', 'petal length (cm)', 'petal width (cm)']\n",
            "['setosa' 'versicolor' 'virginica']\n",
            "[[ 0.  0.  5. ...  0.  0.  0.]\n",
            " [ 0.  0.  0. ... 10.  0.  0.]\n",
            " [ 0.  0.  0. ... 16.  9.  0.]\n",
            " ...\n",
            " [ 0.  0.  1. ...  6.  0.  0.]\n",
            " [ 0.  0.  2. ... 12.  0.  0.]\n",
            " [ 0.  0. 10. ... 12.  1.  0.]]\n",
            "[5.1 3.5 1.4 0.2]\n",
            "0\n",
            "[0 1 2]\n",
            "[0 1 2]\n"
          ],
          "name": "stdout"
        }
      ]
    }
  ]
}